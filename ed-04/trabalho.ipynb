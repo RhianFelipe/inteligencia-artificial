{
  "nbformat": 4,
  "nbformat_minor": 0,
  "metadata": {
    "colab": {
      "provenance": []
    },
    "kernelspec": {
      "name": "python3",
      "display_name": "Python 3"
    },
    "language_info": {
      "name": "python"
    }
  },
  "cells": [
    {
      "cell_type": "code",
      "execution_count": null,
      "metadata": {
        "id": "y2DwFR7pF-9k"
      },
      "outputs": [],
      "source": [
        "# Busca em largura\n",
        "\n",
        "def bfs(grafo, vertice_fonte):\n",
        "    visitados, fila = set(), [vertice_fonte]\n",
        "    while fila:\n",
        "        vertice = queue.pop(0)\n",
        "        if vertice not in visitados:\n",
        "            visitados.add(vertice)\n",
        "            fila.extend(grafo[vertice] - visitados)\n",
        "    return visitados"
      ]
    },
    {
      "cell_type": "code",
      "source": [
        "# Busca em Profundidade\n",
        "\n",
        "def dfs(grafo):\n",
        "    def dfs_recursiva(grafo, vertice):\n",
        "        visitados.add(vertice)\n",
        "        for vizinho in grafo[vertice]:\n",
        "            if vizinho not in visitados:\n",
        "                dfs_recursiva(grafo, vizinho)\n",
        "\n",
        "    visitados = set()\n",
        "    for vertice in grafo:\n",
        "        if not vertice in visitados:\n",
        "            dfs_recursiva(grafo, vertice)"
      ],
      "metadata": {
        "id": "p_RKZq2nN7LT"
      },
      "execution_count": null,
      "outputs": []
    },
    {
      "cell_type": "code",
      "source": [],
      "metadata": {
        "id": "w9HkNdZCQ7yg"
      },
      "execution_count": null,
      "outputs": []
    }
  ]
}