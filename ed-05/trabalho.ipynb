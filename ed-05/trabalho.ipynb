{
  "nbformat": 4,
  "nbformat_minor": 0,
  "metadata": {
    "colab": {
      "provenance": []
    },
    "kernelspec": {
      "name": "python3",
      "display_name": "Python 3"
    },
    "language_info": {
      "name": "python"
    }
  },
  "cells": [
    {
      "cell_type": "code",
      "execution_count": 2,
      "metadata": {
        "colab": {
          "base_uri": "https://localhost:8080/",
          "height": 130
        },
        "id": "ADr5k10WCWRC",
        "outputId": "7cd7fc27-7844-447e-f743-573820a4006f"
      },
      "outputs": [
        {
          "output_type": "error",
          "ename": "IndentationError",
          "evalue": "ignored",
          "traceback": [
            "\u001b[0;36m  File \u001b[0;32m\"<tokenize>\"\u001b[0;36m, line \u001b[0;32m13\u001b[0m\n\u001b[0;31m    if the selected node has children:\u001b[0m\n\u001b[0m    ^\u001b[0m\n\u001b[0;31mIndentationError\u001b[0m\u001b[0;31m:\u001b[0m unindent does not match any outer indentation level\n"
          ]
        }
      ],
      "source": [
        " #gulosa\n",
        " \n",
        " def gulosa(Graph, start, target):\n",
        "\n",
        "    while True:\n",
        "         if opened is empty:\n",
        "            break\n",
        "         if selected_node == target:\n",
        "            calculate path\n",
        "            return path\n",
        "    \n",
        "\n",
        "       if the selected node has children:\n",
        "           for each child in children:\n",
        "             \n",
        "              if child not in closed and opened lists:\n",
        "                 child.parent = selected_node\n",
        "              \n",
        "             else if child in opened list:\n",
        "\n",
        "                child.parent = selected_node\n",
        "                 "
      ]
    },
    {
      "cell_type": "code",
      "source": [
        "# a*\n",
        "\n",
        "def retorna_h(destino, node):\n",
        "    def h(n):\n",
        "        def caminhar(pos, visitados, distancia):\n",
        "            caminhos = node[pos]\n",
        "            distancias = []\n",
        "            visitados.add(pos)\n",
        "            if pos == destino:\n",
        "                return distancia\n",
        "            distancia += 1\n",
        "            for novo_pos in caminhos:\n",
        "                if novo_pos == destino:\n",
        "                    return distancia\n",
        "                if not novo_pos in visitados:\n",
        "                    try:\n",
        "                        distancias.append( caminhar(novo_pos,set(visitados), distancia) )\n",
        "                    except:\n",
        "                        pass\n",
        "            return min(distancias)\n",
        "\n",
        "\n",
        "        try:\n",
        "            return caminhar(n,set(), 0)\n",
        "        except:\n",
        "            return None\n",
        "                    \n",
        "    return h\n",
        "\n",
        "meu_h = retorna_h(final, nos)\n",
        "\n",
        "print( meu_h(0) )\n",
        "\n",
        "def retorna_caminho(destino, node, meu_h):\n",
        "    def meu_f(n):\n",
        "        def calculo_f(pos, g_anterior):\n",
        "            valor = meu_h(pos)\n",
        "            if not valor:\n",
        "                raise Exception('Não há caminho para determinado destino')\n",
        "            return g_anterior + valor\n",
        "        pos = n\n",
        "        g = 0\n",
        "        path = [pos]\n",
        "        try:\n",
        "            while True:\n",
        "                menor = 999999\n",
        "                idx_menor = -1\n",
        "                caminhos = node[pos]\n",
        "                for caminho in caminhos:\n",
        "                    if caminho == destino:\n",
        "                        path.append(caminho)\n",
        "                        return path\n",
        "                    if caminho in path:\n",
        "                        continue\n",
        "                    heuristica = calculo_f(caminho, g+1)\n",
        "                    if heuristica < menor:\n",
        "                        menor = heuristica\n",
        "                        idx_menor = caminho\n",
        "                if idx_menor != -1:\n",
        "                    pos = idx_menor\n",
        "                    path.append(idx_menor)\n",
        "                    g += 1\n",
        "                    continue\n",
        "                else:\n",
        "                    break\n",
        "        except:\n",
        "            return []\n",
        "        return path\n",
        "    return meu_f\n",
        "\n",
        "calcular_caminho = retorna_caminho(final, nos, meu_h)"
      ],
      "metadata": {
        "id": "lNLmt-BcDm8Y"
      },
      "execution_count": null,
      "outputs": []
    }
  ]
}